{
  "nbformat": 4,
  "nbformat_minor": 0,
  "metadata": {
    "colab": {
      "provenance": [],
      "authorship_tag": "ABX9TyMwhxdLgktzzqdmvhpYDqvJ",
      "include_colab_link": true
    },
    "kernelspec": {
      "name": "python3",
      "display_name": "Python 3"
    },
    "language_info": {
      "name": "python"
    }
  },
  "cells": [
    {
      "cell_type": "markdown",
      "metadata": {
        "id": "view-in-github",
        "colab_type": "text"
      },
      "source": [
        "<a href=\"https://colab.research.google.com/github/DARSSHINI-P/DARSSHINI-P---241801042---FOML/blob/main/DARSSHINI_P_FOML_EXP_4.ipynb\" target=\"_parent\"><img src=\"https://colab.research.google.com/assets/colab-badge.svg\" alt=\"Open In Colab\"/></a>"
      ]
    },
    {
      "cell_type": "code",
      "execution_count": 1,
      "metadata": {
        "id": "ZHWUVehht3RS"
      },
      "outputs": [],
      "source": [
        "import pandas as pd\n",
        "import numpy as np\n",
        "import matplotlib.pyplot as plt\n",
        "import seaborn as sns"
      ]
    },
    {
      "cell_type": "code",
      "source": [
        "def activation(value):\n",
        "\n",
        "          return 1 if value >= 0 else 0\n"
      ],
      "metadata": {
        "id": "RfzKgaiovKDR"
      },
      "execution_count": 4,
      "outputs": []
    },
    {
      "cell_type": "code",
      "source": [
        "training_inputs = np.array([[0,0],\n",
        "                            [0,1],\n",
        "                            [1,0],\n",
        "                            [1,1]])\n",
        "desired_outputs_AND = np.array([0,0,0,1])\n",
        "desired_outputs_OR  = np.array([0,1,1,1])"
      ],
      "metadata": {
        "id": "MoFAGK9vv8mI"
      },
      "execution_count": 6,
      "outputs": []
    },
    {
      "cell_type": "code",
      "source": [
        "learning_rate = 0.4\n",
        "max_epochs = 10\n"
      ],
      "metadata": {
        "id": "d7M5cDJjwFX_"
      },
      "execution_count": 7,
      "outputs": []
    },
    {
      "cell_type": "code",
      "source": [
        "def train_perceptron(desired_outputs, function_name):\n",
        "    weights = np.array([0.0, 0.0])\n",
        "    bias = 0.0\n",
        "    print(f\"\\nTraining Perceptron for {function_name} function\")\n",
        "    print(f\"Initial weights: {weights}, bias: {bias}\")\n",
        "    for epoch in range(max_epochs):\n",
        "      print(f\"\\nEpoch {epoch+1}\")\n",
        "      total_error = 0\n",
        "      for inputs, expected in zip(training_inputs, desired_outputs):\n",
        "        linear_output = np.dot(inputs, weights) + bias\n",
        "        output = activation(linear_output)\n",
        "        error = expected - output\n",
        "        total_error += abs(error)\n",
        "        weights += learning_rate * error * inputs\n",
        "        bias += learning_rate * error\n",
        "        print(f\"Input: {inputs}, Expected: {expected}, Output: {output}, Error: {error}\")\n",
        "        print(f\"Updated weights: {weights}, Updated bias: {bias}\")\n",
        "\n",
        "      if total_error == 0:\n",
        "        print(\"\\nNo errors, training complete!\")\n",
        "        break\n",
        "      print(f\"\\nFinal weights: {weights}, Final bias: {bias}\")\n",
        "\n",
        "\n"
      ],
      "metadata": {
        "id": "ZgOqJIkBwLqk"
      },
      "execution_count": 14,
      "outputs": []
    },
    {
      "cell_type": "code",
      "source": [
        "train_perceptron(desired_outputs_AND, \"AND\")\n",
        "train_perceptron(desired_outputs_OR, \"OR\")\n"
      ],
      "metadata": {
        "colab": {
          "base_uri": "https://localhost:8080/"
        },
        "id": "6kHm6qn7ydVl",
        "outputId": "60492912-5d59-430f-f1a2-8383fbefdc00"
      },
      "execution_count": 15,
      "outputs": [
        {
          "output_type": "stream",
          "name": "stdout",
          "text": [
            "\n",
            "Training Perceptron for AND function\n",
            "Initial weights: [0. 0.], bias: 0.0\n",
            "\n",
            "Epoch 1\n",
            "Input: [0 0], Expected: 0, Output: 1, Error: -1\n",
            "Updated weights: [0. 0.], Updated bias: -0.4\n",
            "Input: [0 1], Expected: 0, Output: 0, Error: 0\n",
            "Updated weights: [0. 0.], Updated bias: -0.4\n",
            "Input: [1 0], Expected: 0, Output: 0, Error: 0\n",
            "Updated weights: [0. 0.], Updated bias: -0.4\n",
            "Input: [1 1], Expected: 1, Output: 0, Error: 1\n",
            "Updated weights: [0.4 0.4], Updated bias: 0.0\n",
            "\n",
            "Final weights: [0.4 0.4], Final bias: 0.0\n",
            "\n",
            "Epoch 2\n",
            "Input: [0 0], Expected: 0, Output: 1, Error: -1\n",
            "Updated weights: [0.4 0.4], Updated bias: -0.4\n",
            "Input: [0 1], Expected: 0, Output: 1, Error: -1\n",
            "Updated weights: [0.4 0. ], Updated bias: -0.8\n",
            "Input: [1 0], Expected: 0, Output: 0, Error: 0\n",
            "Updated weights: [0.4 0. ], Updated bias: -0.8\n",
            "Input: [1 1], Expected: 1, Output: 0, Error: 1\n",
            "Updated weights: [0.8 0.4], Updated bias: -0.4\n",
            "\n",
            "Final weights: [0.8 0.4], Final bias: -0.4\n",
            "\n",
            "Epoch 3\n",
            "Input: [0 0], Expected: 0, Output: 0, Error: 0\n",
            "Updated weights: [0.8 0.4], Updated bias: -0.4\n",
            "Input: [0 1], Expected: 0, Output: 1, Error: -1\n",
            "Updated weights: [0.8 0. ], Updated bias: -0.8\n",
            "Input: [1 0], Expected: 0, Output: 1, Error: -1\n",
            "Updated weights: [0.4 0. ], Updated bias: -1.2000000000000002\n",
            "Input: [1 1], Expected: 1, Output: 0, Error: 1\n",
            "Updated weights: [0.8 0.4], Updated bias: -0.8000000000000002\n",
            "\n",
            "Final weights: [0.8 0.4], Final bias: -0.8000000000000002\n",
            "\n",
            "Epoch 4\n",
            "Input: [0 0], Expected: 0, Output: 0, Error: 0\n",
            "Updated weights: [0.8 0.4], Updated bias: -0.8000000000000002\n",
            "Input: [0 1], Expected: 0, Output: 0, Error: 0\n",
            "Updated weights: [0.8 0.4], Updated bias: -0.8000000000000002\n",
            "Input: [1 0], Expected: 0, Output: 0, Error: 0\n",
            "Updated weights: [0.8 0.4], Updated bias: -0.8000000000000002\n",
            "Input: [1 1], Expected: 1, Output: 1, Error: 0\n",
            "Updated weights: [0.8 0.4], Updated bias: -0.8000000000000002\n",
            "\n",
            "No errors, training complete!\n",
            "\n",
            "Training Perceptron for OR function\n",
            "Initial weights: [0. 0.], bias: 0.0\n",
            "\n",
            "Epoch 1\n",
            "Input: [0 0], Expected: 0, Output: 1, Error: -1\n",
            "Updated weights: [0. 0.], Updated bias: -0.4\n",
            "Input: [0 1], Expected: 1, Output: 0, Error: 1\n",
            "Updated weights: [0.  0.4], Updated bias: 0.0\n",
            "Input: [1 0], Expected: 1, Output: 1, Error: 0\n",
            "Updated weights: [0.  0.4], Updated bias: 0.0\n",
            "Input: [1 1], Expected: 1, Output: 1, Error: 0\n",
            "Updated weights: [0.  0.4], Updated bias: 0.0\n",
            "\n",
            "Final weights: [0.  0.4], Final bias: 0.0\n",
            "\n",
            "Epoch 2\n",
            "Input: [0 0], Expected: 0, Output: 1, Error: -1\n",
            "Updated weights: [0.  0.4], Updated bias: -0.4\n",
            "Input: [0 1], Expected: 1, Output: 1, Error: 0\n",
            "Updated weights: [0.  0.4], Updated bias: -0.4\n",
            "Input: [1 0], Expected: 1, Output: 0, Error: 1\n",
            "Updated weights: [0.4 0.4], Updated bias: 0.0\n",
            "Input: [1 1], Expected: 1, Output: 1, Error: 0\n",
            "Updated weights: [0.4 0.4], Updated bias: 0.0\n",
            "\n",
            "Final weights: [0.4 0.4], Final bias: 0.0\n",
            "\n",
            "Epoch 3\n",
            "Input: [0 0], Expected: 0, Output: 1, Error: -1\n",
            "Updated weights: [0.4 0.4], Updated bias: -0.4\n",
            "Input: [0 1], Expected: 1, Output: 1, Error: 0\n",
            "Updated weights: [0.4 0.4], Updated bias: -0.4\n",
            "Input: [1 0], Expected: 1, Output: 1, Error: 0\n",
            "Updated weights: [0.4 0.4], Updated bias: -0.4\n",
            "Input: [1 1], Expected: 1, Output: 1, Error: 0\n",
            "Updated weights: [0.4 0.4], Updated bias: -0.4\n",
            "\n",
            "Final weights: [0.4 0.4], Final bias: -0.4\n",
            "\n",
            "Epoch 4\n",
            "Input: [0 0], Expected: 0, Output: 0, Error: 0\n",
            "Updated weights: [0.4 0.4], Updated bias: -0.4\n",
            "Input: [0 1], Expected: 1, Output: 1, Error: 0\n",
            "Updated weights: [0.4 0.4], Updated bias: -0.4\n",
            "Input: [1 0], Expected: 1, Output: 1, Error: 0\n",
            "Updated weights: [0.4 0.4], Updated bias: -0.4\n",
            "Input: [1 1], Expected: 1, Output: 1, Error: 0\n",
            "Updated weights: [0.4 0.4], Updated bias: -0.4\n",
            "\n",
            "No errors, training complete!\n"
          ]
        }
      ]
    }
  ]
}